{
 "cells": [
  {
   "cell_type": "markdown",
   "metadata": {},
   "source": [
    "### Загрузка датасета"
   ]
  },
  {
   "cell_type": "code",
   "execution_count": 1,
   "metadata": {
    "collapsed": false
   },
   "outputs": [],
   "source": [
    "import numpy as np\n",
    "import pandas as pd"
   ]
  },
  {
   "cell_type": "code",
   "execution_count": 2,
   "metadata": {
    "collapsed": true
   },
   "outputs": [],
   "source": [
    "emails = pd.read_csv('dataset/Emails.csv')\n",
    "email_receivers = pd.read_csv('dataset/EmailReceivers.csv')\n",
    "aliases = pd.read_csv('dataset/Aliases.csv')\n",
    "persons = pd.read_csv('dataset/Persons.csv')"
   ]
  },
  {
   "cell_type": "markdown",
   "metadata": {},
   "source": [
    "### Изучение датасета emails"
   ]
  },
  {
   "cell_type": "code",
   "execution_count": 11,
   "metadata": {
    "collapsed": false
   },
   "outputs": [
    {
     "data": {
      "text/plain": [
       "Index([u'Id', u'DocNumber', u'MetadataSubject', u'MetadataTo', u'MetadataFrom',\n",
       "       u'SenderPersonId', u'MetadataDateSent', u'MetadataDateReleased',\n",
       "       u'MetadataPdfLink', u'MetadataCaseNumber', u'MetadataDocumentClass',\n",
       "       u'ExtractedSubject', u'ExtractedTo', u'ExtractedFrom', u'ExtractedCc',\n",
       "       u'ExtractedDateSent', u'ExtractedCaseNumber', u'ExtractedDocNumber',\n",
       "       u'ExtractedDateReleased', u'ExtractedReleaseInPartOrFull',\n",
       "       u'ExtractedBodyText', u'RawText'],\n",
       "      dtype='object')"
      ]
     },
     "execution_count": 11,
     "metadata": {},
     "output_type": "execute_result"
    }
   ],
   "source": [
    "emails.columns"
   ]
  },
  {
   "cell_type": "code",
   "execution_count": 12,
   "metadata": {
    "collapsed": false
   },
   "outputs": [
    {
     "data": {
      "text/html": [
       "<div>\n",
       "<table border=\"1\" class=\"dataframe\">\n",
       "  <thead>\n",
       "    <tr style=\"text-align: right;\">\n",
       "      <th></th>\n",
       "      <th>Id</th>\n",
       "      <th>DocNumber</th>\n",
       "      <th>MetadataSubject</th>\n",
       "      <th>MetadataTo</th>\n",
       "      <th>MetadataFrom</th>\n",
       "      <th>SenderPersonId</th>\n",
       "      <th>MetadataDateSent</th>\n",
       "      <th>MetadataDateReleased</th>\n",
       "      <th>MetadataPdfLink</th>\n",
       "      <th>MetadataCaseNumber</th>\n",
       "      <th>...</th>\n",
       "      <th>ExtractedTo</th>\n",
       "      <th>ExtractedFrom</th>\n",
       "      <th>ExtractedCc</th>\n",
       "      <th>ExtractedDateSent</th>\n",
       "      <th>ExtractedCaseNumber</th>\n",
       "      <th>ExtractedDocNumber</th>\n",
       "      <th>ExtractedDateReleased</th>\n",
       "      <th>ExtractedReleaseInPartOrFull</th>\n",
       "      <th>ExtractedBodyText</th>\n",
       "      <th>RawText</th>\n",
       "    </tr>\n",
       "  </thead>\n",
       "  <tbody>\n",
       "    <tr>\n",
       "      <th>0</th>\n",
       "      <td>1</td>\n",
       "      <td>C05739545</td>\n",
       "      <td>WOW</td>\n",
       "      <td>H</td>\n",
       "      <td>Sullivan, Jacob J</td>\n",
       "      <td>87.0</td>\n",
       "      <td>2012-09-12T04:00:00+00:00</td>\n",
       "      <td>2015-05-22T04:00:00+00:00</td>\n",
       "      <td>DOCUMENTS/HRC_Email_1_296/HRCH2/DOC_0C05739545...</td>\n",
       "      <td>F-2015-04841</td>\n",
       "      <td>...</td>\n",
       "      <td>NaN</td>\n",
       "      <td>Sullivan, Jacob J &lt;Sullivan11@state.gov&gt;</td>\n",
       "      <td>NaN</td>\n",
       "      <td>Wednesday, September 12, 2012 10:16 AM</td>\n",
       "      <td>F-2015-04841</td>\n",
       "      <td>C05739545</td>\n",
       "      <td>05/13/2015</td>\n",
       "      <td>RELEASE IN FULL</td>\n",
       "      <td>NaN</td>\n",
       "      <td>UNCLASSIFIED\\nU.S. Department of State\\nCase N...</td>\n",
       "    </tr>\n",
       "    <tr>\n",
       "      <th>1</th>\n",
       "      <td>2</td>\n",
       "      <td>C05739546</td>\n",
       "      <td>H: LATEST: HOW SYRIA IS AIDING QADDAFI AND MOR...</td>\n",
       "      <td>H</td>\n",
       "      <td>NaN</td>\n",
       "      <td>NaN</td>\n",
       "      <td>2011-03-03T05:00:00+00:00</td>\n",
       "      <td>2015-05-22T04:00:00+00:00</td>\n",
       "      <td>DOCUMENTS/HRC_Email_1_296/HRCH1/DOC_0C05739546...</td>\n",
       "      <td>F-2015-04841</td>\n",
       "      <td>...</td>\n",
       "      <td>NaN</td>\n",
       "      <td>NaN</td>\n",
       "      <td>NaN</td>\n",
       "      <td>NaN</td>\n",
       "      <td>F-2015-04841</td>\n",
       "      <td>C05739546</td>\n",
       "      <td>05/13/2015</td>\n",
       "      <td>RELEASE IN PART</td>\n",
       "      <td>B6\\nThursday, March 3, 2011 9:45 PM\\nH: Latest...</td>\n",
       "      <td>UNCLASSIFIED\\nU.S. Department of State\\nCase N...</td>\n",
       "    </tr>\n",
       "    <tr>\n",
       "      <th>2</th>\n",
       "      <td>3</td>\n",
       "      <td>C05739547</td>\n",
       "      <td>CHRIS STEVENS</td>\n",
       "      <td>;H</td>\n",
       "      <td>Mills, Cheryl D</td>\n",
       "      <td>32.0</td>\n",
       "      <td>2012-09-12T04:00:00+00:00</td>\n",
       "      <td>2015-05-22T04:00:00+00:00</td>\n",
       "      <td>DOCUMENTS/HRC_Email_1_296/HRCH2/DOC_0C05739547...</td>\n",
       "      <td>F-2015-04841</td>\n",
       "      <td>...</td>\n",
       "      <td>B6</td>\n",
       "      <td>Mills, Cheryl D &lt;MillsCD@state.gov&gt;</td>\n",
       "      <td>Abedin, Huma</td>\n",
       "      <td>Wednesday, September 12, 2012 11:52 AM</td>\n",
       "      <td>F-2015-04841</td>\n",
       "      <td>C05739547</td>\n",
       "      <td>05/14/2015</td>\n",
       "      <td>RELEASE IN PART</td>\n",
       "      <td>Thx</td>\n",
       "      <td>UNCLASSIFIED\\nU.S. Department of State\\nCase N...</td>\n",
       "    </tr>\n",
       "    <tr>\n",
       "      <th>3</th>\n",
       "      <td>4</td>\n",
       "      <td>C05739550</td>\n",
       "      <td>CAIRO CONDEMNATION - FINAL</td>\n",
       "      <td>H</td>\n",
       "      <td>Mills, Cheryl D</td>\n",
       "      <td>32.0</td>\n",
       "      <td>2012-09-12T04:00:00+00:00</td>\n",
       "      <td>2015-05-22T04:00:00+00:00</td>\n",
       "      <td>DOCUMENTS/HRC_Email_1_296/HRCH2/DOC_0C05739550...</td>\n",
       "      <td>F-2015-04841</td>\n",
       "      <td>...</td>\n",
       "      <td>NaN</td>\n",
       "      <td>Mills, Cheryl D &lt;MillsCD@state.gov&gt;</td>\n",
       "      <td>Mitchell, Andrew B</td>\n",
       "      <td>Wednesday, September 12,2012 12:44 PM</td>\n",
       "      <td>F-2015-04841</td>\n",
       "      <td>C05739550</td>\n",
       "      <td>05/13/2015</td>\n",
       "      <td>RELEASE IN PART</td>\n",
       "      <td>NaN</td>\n",
       "      <td>UNCLASSIFIED\\nU.S. Department of State\\nCase N...</td>\n",
       "    </tr>\n",
       "    <tr>\n",
       "      <th>4</th>\n",
       "      <td>5</td>\n",
       "      <td>C05739554</td>\n",
       "      <td>H: LATEST: HOW SYRIA IS AIDING QADDAFI AND MOR...</td>\n",
       "      <td>Abedin, Huma</td>\n",
       "      <td>H</td>\n",
       "      <td>80.0</td>\n",
       "      <td>2011-03-11T05:00:00+00:00</td>\n",
       "      <td>2015-05-22T04:00:00+00:00</td>\n",
       "      <td>DOCUMENTS/HRC_Email_1_296/HRCH1/DOC_0C05739554...</td>\n",
       "      <td>F-2015-04841</td>\n",
       "      <td>...</td>\n",
       "      <td>NaN</td>\n",
       "      <td>NaN</td>\n",
       "      <td>NaN</td>\n",
       "      <td>NaN</td>\n",
       "      <td>F-2015-04841</td>\n",
       "      <td>C05739554</td>\n",
       "      <td>05/13/2015</td>\n",
       "      <td>RELEASE IN PART</td>\n",
       "      <td>H &lt;hrod17@clintonemail.com&gt;\\nFriday, March 11,...</td>\n",
       "      <td>B6\\nUNCLASSIFIED\\nU.S. Department of State\\nCa...</td>\n",
       "    </tr>\n",
       "  </tbody>\n",
       "</table>\n",
       "<p>5 rows × 22 columns</p>\n",
       "</div>"
      ],
      "text/plain": [
       "   Id  DocNumber                                    MetadataSubject  \\\n",
       "0   1  C05739545                                                WOW   \n",
       "1   2  C05739546  H: LATEST: HOW SYRIA IS AIDING QADDAFI AND MOR...   \n",
       "2   3  C05739547                                      CHRIS STEVENS   \n",
       "3   4  C05739550                         CAIRO CONDEMNATION - FINAL   \n",
       "4   5  C05739554  H: LATEST: HOW SYRIA IS AIDING QADDAFI AND MOR...   \n",
       "\n",
       "     MetadataTo       MetadataFrom  SenderPersonId           MetadataDateSent  \\\n",
       "0             H  Sullivan, Jacob J            87.0  2012-09-12T04:00:00+00:00   \n",
       "1             H                NaN             NaN  2011-03-03T05:00:00+00:00   \n",
       "2            ;H    Mills, Cheryl D            32.0  2012-09-12T04:00:00+00:00   \n",
       "3             H    Mills, Cheryl D            32.0  2012-09-12T04:00:00+00:00   \n",
       "4  Abedin, Huma                  H            80.0  2011-03-11T05:00:00+00:00   \n",
       "\n",
       "        MetadataDateReleased  \\\n",
       "0  2015-05-22T04:00:00+00:00   \n",
       "1  2015-05-22T04:00:00+00:00   \n",
       "2  2015-05-22T04:00:00+00:00   \n",
       "3  2015-05-22T04:00:00+00:00   \n",
       "4  2015-05-22T04:00:00+00:00   \n",
       "\n",
       "                                     MetadataPdfLink MetadataCaseNumber  \\\n",
       "0  DOCUMENTS/HRC_Email_1_296/HRCH2/DOC_0C05739545...       F-2015-04841   \n",
       "1  DOCUMENTS/HRC_Email_1_296/HRCH1/DOC_0C05739546...       F-2015-04841   \n",
       "2  DOCUMENTS/HRC_Email_1_296/HRCH2/DOC_0C05739547...       F-2015-04841   \n",
       "3  DOCUMENTS/HRC_Email_1_296/HRCH2/DOC_0C05739550...       F-2015-04841   \n",
       "4  DOCUMENTS/HRC_Email_1_296/HRCH1/DOC_0C05739554...       F-2015-04841   \n",
       "\n",
       "                         ...                         ExtractedTo  \\\n",
       "0                        ...                                 NaN   \n",
       "1                        ...                                 NaN   \n",
       "2                        ...                                  B6   \n",
       "3                        ...                                 NaN   \n",
       "4                        ...                                 NaN   \n",
       "\n",
       "                              ExtractedFrom         ExtractedCc  \\\n",
       "0  Sullivan, Jacob J <Sullivan11@state.gov>                 NaN   \n",
       "1                                       NaN                 NaN   \n",
       "2       Mills, Cheryl D <MillsCD@state.gov>        Abedin, Huma   \n",
       "3       Mills, Cheryl D <MillsCD@state.gov>  Mitchell, Andrew B   \n",
       "4                                       NaN                 NaN   \n",
       "\n",
       "                        ExtractedDateSent ExtractedCaseNumber  \\\n",
       "0  Wednesday, September 12, 2012 10:16 AM        F-2015-04841   \n",
       "1                                     NaN        F-2015-04841   \n",
       "2  Wednesday, September 12, 2012 11:52 AM        F-2015-04841   \n",
       "3   Wednesday, September 12,2012 12:44 PM        F-2015-04841   \n",
       "4                                     NaN        F-2015-04841   \n",
       "\n",
       "  ExtractedDocNumber ExtractedDateReleased ExtractedReleaseInPartOrFull  \\\n",
       "0          C05739545            05/13/2015              RELEASE IN FULL   \n",
       "1          C05739546            05/13/2015              RELEASE IN PART   \n",
       "2          C05739547            05/14/2015              RELEASE IN PART   \n",
       "3          C05739550            05/13/2015              RELEASE IN PART   \n",
       "4          C05739554            05/13/2015              RELEASE IN PART   \n",
       "\n",
       "                                   ExtractedBodyText  \\\n",
       "0                                                NaN   \n",
       "1  B6\\nThursday, March 3, 2011 9:45 PM\\nH: Latest...   \n",
       "2                                                Thx   \n",
       "3                                                NaN   \n",
       "4  H <hrod17@clintonemail.com>\\nFriday, March 11,...   \n",
       "\n",
       "                                             RawText  \n",
       "0  UNCLASSIFIED\\nU.S. Department of State\\nCase N...  \n",
       "1  UNCLASSIFIED\\nU.S. Department of State\\nCase N...  \n",
       "2  UNCLASSIFIED\\nU.S. Department of State\\nCase N...  \n",
       "3  UNCLASSIFIED\\nU.S. Department of State\\nCase N...  \n",
       "4  B6\\nUNCLASSIFIED\\nU.S. Department of State\\nCa...  \n",
       "\n",
       "[5 rows x 22 columns]"
      ]
     },
     "execution_count": 12,
     "metadata": {},
     "output_type": "execute_result"
    }
   ],
   "source": [
    "emails.head()"
   ]
  },
  {
   "cell_type": "code",
   "execution_count": 37,
   "metadata": {
    "collapsed": false
   },
   "outputs": [
    {
     "data": {
      "text/plain": [
       "Id                                                                              1\n",
       "DocNumber                                                               C05739545\n",
       "MetadataSubject                                                               WOW\n",
       "MetadataTo                                                                      H\n",
       "MetadataFrom                                                    Sullivan, Jacob J\n",
       "SenderPersonId                                                                 87\n",
       "MetadataDateSent                                        2012-09-12T04:00:00+00:00\n",
       "MetadataDateReleased                                    2015-05-22T04:00:00+00:00\n",
       "MetadataPdfLink                 DOCUMENTS/HRC_Email_1_296/HRCH2/DOC_0C05739545...\n",
       "MetadataCaseNumber                                                   F-2015-04841\n",
       "MetadataDocumentClass                                               HRC_Email_296\n",
       "ExtractedSubject                                                          FW: Wow\n",
       "ExtractedTo                                                                   NaN\n",
       "ExtractedFrom                            Sullivan, Jacob J <Sullivan11@state.gov>\n",
       "ExtractedCc                                                                   NaN\n",
       "ExtractedDateSent                          Wednesday, September 12, 2012 10:16 AM\n",
       "ExtractedCaseNumber                                                  F-2015-04841\n",
       "ExtractedDocNumber                                                      C05739545\n",
       "ExtractedDateReleased                                                  05/13/2015\n",
       "ExtractedReleaseInPartOrFull                                      RELEASE IN FULL\n",
       "ExtractedBodyText                                                             NaN\n",
       "RawText                         UNCLASSIFIED\\nU.S. Department of State\\nCase N...\n",
       "Name: 0, dtype: object"
      ]
     },
     "execution_count": 37,
     "metadata": {},
     "output_type": "execute_result"
    }
   ],
   "source": [
    "emails.loc[0]"
   ]
  },
  {
   "cell_type": "markdown",
   "metadata": {},
   "source": [
    "### Предобработаем тексты"
   ]
  },
  {
   "cell_type": "markdown",
   "metadata": {},
   "source": [
    "Оставим признаки, которые считаем нужными. Удалим всякие даты, индексы и цифры. Конечно, можно оставить даты, чтобы посмотреть, как письма сгруппированы по времени, но это не слишком интеллектуально, и мне лень, поэтому, возможно, сделаю чуть позже.\n",
    "Из признаков оставим: MetadataSubject, MetadataTo, MetadataFrom, ExtractedSubject, ExtractedTo, ExtractedFrom, ExtractedBodyText."
   ]
  },
  {
   "cell_type": "code",
   "execution_count": 21,
   "metadata": {
    "collapsed": false
   },
   "outputs": [
    {
     "data": {
      "text/html": [
       "<div>\n",
       "<table border=\"1\" class=\"dataframe\">\n",
       "  <thead>\n",
       "    <tr style=\"text-align: right;\">\n",
       "      <th></th>\n",
       "      <th>MetadataSubject</th>\n",
       "      <th>MetadataTo</th>\n",
       "      <th>MetadataFrom</th>\n",
       "      <th>ExtractedSubject</th>\n",
       "      <th>ExtractedTo</th>\n",
       "      <th>ExtractedFrom</th>\n",
       "      <th>ExtractedBodyText</th>\n",
       "    </tr>\n",
       "  </thead>\n",
       "  <tbody>\n",
       "    <tr>\n",
       "      <th>0</th>\n",
       "      <td>WOW</td>\n",
       "      <td>H</td>\n",
       "      <td>Sullivan, Jacob J</td>\n",
       "      <td>FW: Wow</td>\n",
       "      <td>NaN</td>\n",
       "      <td>Sullivan, Jacob J &lt;Sullivan11@state.gov&gt;</td>\n",
       "      <td>NaN</td>\n",
       "    </tr>\n",
       "    <tr>\n",
       "      <th>1</th>\n",
       "      <td>H: LATEST: HOW SYRIA IS AIDING QADDAFI AND MOR...</td>\n",
       "      <td>H</td>\n",
       "      <td>NaN</td>\n",
       "      <td>NaN</td>\n",
       "      <td>NaN</td>\n",
       "      <td>NaN</td>\n",
       "      <td>B6\\nThursday, March 3, 2011 9:45 PM\\nH: Latest...</td>\n",
       "    </tr>\n",
       "    <tr>\n",
       "      <th>2</th>\n",
       "      <td>CHRIS STEVENS</td>\n",
       "      <td>;H</td>\n",
       "      <td>Mills, Cheryl D</td>\n",
       "      <td>Re: Chris Stevens</td>\n",
       "      <td>B6</td>\n",
       "      <td>Mills, Cheryl D &lt;MillsCD@state.gov&gt;</td>\n",
       "      <td>Thx</td>\n",
       "    </tr>\n",
       "    <tr>\n",
       "      <th>3</th>\n",
       "      <td>CAIRO CONDEMNATION - FINAL</td>\n",
       "      <td>H</td>\n",
       "      <td>Mills, Cheryl D</td>\n",
       "      <td>FVV: Cairo Condemnation - Final</td>\n",
       "      <td>NaN</td>\n",
       "      <td>Mills, Cheryl D &lt;MillsCD@state.gov&gt;</td>\n",
       "      <td>NaN</td>\n",
       "    </tr>\n",
       "    <tr>\n",
       "      <th>4</th>\n",
       "      <td>H: LATEST: HOW SYRIA IS AIDING QADDAFI AND MOR...</td>\n",
       "      <td>Abedin, Huma</td>\n",
       "      <td>H</td>\n",
       "      <td>NaN</td>\n",
       "      <td>NaN</td>\n",
       "      <td>NaN</td>\n",
       "      <td>H &lt;hrod17@clintonemail.com&gt;\\nFriday, March 11,...</td>\n",
       "    </tr>\n",
       "  </tbody>\n",
       "</table>\n",
       "</div>"
      ],
      "text/plain": [
       "                                     MetadataSubject    MetadataTo  \\\n",
       "0                                                WOW             H   \n",
       "1  H: LATEST: HOW SYRIA IS AIDING QADDAFI AND MOR...             H   \n",
       "2                                      CHRIS STEVENS            ;H   \n",
       "3                         CAIRO CONDEMNATION - FINAL             H   \n",
       "4  H: LATEST: HOW SYRIA IS AIDING QADDAFI AND MOR...  Abedin, Huma   \n",
       "\n",
       "        MetadataFrom                 ExtractedSubject ExtractedTo  \\\n",
       "0  Sullivan, Jacob J                          FW: Wow         NaN   \n",
       "1                NaN                              NaN         NaN   \n",
       "2    Mills, Cheryl D                Re: Chris Stevens          B6   \n",
       "3    Mills, Cheryl D  FVV: Cairo Condemnation - Final         NaN   \n",
       "4                  H                              NaN         NaN   \n",
       "\n",
       "                              ExtractedFrom  \\\n",
       "0  Sullivan, Jacob J <Sullivan11@state.gov>   \n",
       "1                                       NaN   \n",
       "2       Mills, Cheryl D <MillsCD@state.gov>   \n",
       "3       Mills, Cheryl D <MillsCD@state.gov>   \n",
       "4                                       NaN   \n",
       "\n",
       "                                   ExtractedBodyText  \n",
       "0                                                NaN  \n",
       "1  B6\\nThursday, March 3, 2011 9:45 PM\\nH: Latest...  \n",
       "2                                                Thx  \n",
       "3                                                NaN  \n",
       "4  H <hrod17@clintonemail.com>\\nFriday, March 11,...  "
      ]
     },
     "execution_count": 21,
     "metadata": {},
     "output_type": "execute_result"
    }
   ],
   "source": [
    "dataset = emails[['MetadataSubject', 'MetadataTo', 'MetadataFrom', 'ExtractedSubject', 'ExtractedTo', 'ExtractedFrom', 'ExtractedBodyText']]\n",
    "dataset.head()"
   ]
  },
  {
   "cell_type": "code",
   "execution_count": 13,
   "metadata": {
    "collapsed": false
   },
   "outputs": [
    {
     "name": "stdout",
     "output_type": "stream",
     "text": [
      "Pis print.\n",
      "-•-...-^\n",
      "H < hrod17@clintonernailcom>\n",
      "Wednesday, September 12, 2012 2:11 PM\n",
      "°Russorv@state.gov'\n",
      "Fw: Meet The Right-Wing Extremist Behind Anti-fvluslim Film That Sparked Deadly Riots\n",
      "From [meat)\n",
      "Sent: Wednesday, September 12, 2012 01:00 PM\n",
      "To: 11\n",
      "Subject: Meet The Right Wing Extremist Behind Anti-Muslim Film That Sparked Deadly Riots\n",
      "htte/maxbiumenthal.com12012/09/meet-the-right-wing-extremist-behind-anti-musiim-tihn-that-sparked-\n",
      "deadly-riots/\n",
      "Sent from my Verizon Wireless 4G LTE DROID\n",
      "U.S. Department of State\n",
      "Case No. F-2015-04841\n",
      "Doc No. C05739559\n",
      "Date: 05/13/2015\n",
      "STATE DEPT. - PRODUCED TO HOUSE SELECT BENGHAZI COMM.\n",
      "SUBJECT TO AGREEMENT ON SENSITIVE INFORMATION & REDACTIONS. NO FOIA WAIVER. STATE-5CB0045251\n"
     ]
    }
   ],
   "source": [
    "print dataset.ExtractedBodyText[5]"
   ]
  },
  {
   "cell_type": "markdown",
   "metadata": {},
   "source": [
    "Предобработаем колонку ExtractedBodyText, чтобы удалить лишнее"
   ]
  },
  {
   "cell_type": "code",
   "execution_count": 22,
   "metadata": {
    "collapsed": false
   },
   "outputs": [],
   "source": [
    "import math\n",
    "\n",
    "def is_starts_with_trash(line, trash):\n",
    "    for elem in trash:\n",
    "        if line.startswith(elem):\n",
    "            return True\n",
    "    return False\n",
    "\n",
    "def is_line_in_trash(line, trash):\n",
    "    for elem in trash:\n",
    "        if elem in line:\n",
    "            return True\n",
    "    return False\n",
    "\n",
    "def clean(email):\n",
    "    # Проверим на nan\n",
    "    if email != email:\n",
    "        return \"\"\n",
    "    # Здесь будем хранить те паттерны начала строк, по которым строку можно удалить\n",
    "    start_trash = {'Monday', 'Tuesday', 'Wednesday', 'Thursday', 'Friday', 'Saturday', 'Sunday', \n",
    "             'Sent from', 'U.S. Department of State', 'Case No.', 'Doc No.' 'Date:', 'STATE DEPT.', \n",
    "             'SUBJECT TO', 'Fw', 'From', 'Sent', 'To', 'Subject', 'H '}\n",
    "    # Здесь будем хранить те паттерны, по которым строку можно удалить\n",
    "    another_trash = {'@', '/', '\\\\', '\\\\x'}\n",
    "    buf = filter(lambda line: not is_line_in_trash(line, another_trash), email.split('\\n'))\n",
    "    return \"\\n\".join(filter(lambda line: not is_starts_with_trash(line, start_trash), buf))\n",
    "\n",
    "dataset.ExtractedBodyText = dataset.ExtractedBodyText.apply(clean)"
   ]
  },
  {
   "cell_type": "code",
   "execution_count": 5,
   "metadata": {
    "collapsed": false
   },
   "outputs": [
    {
     "data": {
      "text/plain": [
       "0                                                      \n",
       "1     B6\\nH: Latest How Syria is aiding Qaddafi and ...\n",
       "2                                                   Thx\n",
       "3                                                      \n",
       "4     Huma Abedin\\nhrc memo syria aiding libya 03031...\n",
       "5               Pis print.\\n-•-...-^\\nDoc No. C05739559\n",
       "6                                                      \n",
       "7     Huma Abedin\\nhrc memo Syria aiding libya 03031...\n",
       "8                                                   FYI\n",
       "9     B6\\nLibya 37 sept 12 12.docx\\nSending direct. ...\n",
       "10                                         Fyi\\nB6\\n— —\n",
       "11    B6\\nLibya 37 sept 12 12.docx\\nSending direct. ...\n",
       "12                                                  Fyi\n",
       "13    Anne-Marie Slaughter\\npiece on libya nfz that ...\n",
       "14    _ .....\\nIncluding mine. Her remarks were real...\n",
       "15    I asked to attend your svtc today with Embassy...\n",
       "16                 Hope. See picture below Kamala sent.\n",
       "17                                       Another photo.\n",
       "18                                        This is nice.\n",
       "19    Amazing.\\nSherman, Wendy R; H; Mills, Cheryl D...\n",
       "Name: ExtractedBodyText, dtype: object"
      ]
     },
     "execution_count": 5,
     "metadata": {},
     "output_type": "execute_result"
    }
   ],
   "source": [
    "dataset.ExtractedBodyText[:20]"
   ]
  },
  {
   "cell_type": "markdown",
   "metadata": {},
   "source": [
    "### Найдём самые популярные биграммы"
   ]
  },
  {
   "cell_type": "code",
   "execution_count": 71,
   "metadata": {
    "collapsed": false
   },
   "outputs": [],
   "source": [
    "from sklearn.feature_extraction.text import CountVectorizer\n",
    "\n",
    "vect = CountVectorizer(ngram_range=(2,2))\n",
    "corpus = vect.fit_transform(dataset.ExtractedBodyText)\n",
    "bigrams = corpus.sum(axis=0)"
   ]
  },
  {
   "cell_type": "code",
   "execution_count": 80,
   "metadata": {
    "collapsed": false
   },
   "outputs": [
    {
     "name": "stdout",
     "output_type": "stream",
     "text": [
      "of the\n"
     ]
    }
   ],
   "source": [
    "# Найдём биграммы с максимальной встречаемостью\n",
    "max_num = bigrams.argmax()\n",
    "for key in vect.vocabulary_.keys():\n",
    "    if vect.vocabulary_[key] == max_num:\n",
    "        print key"
   ]
  },
  {
   "cell_type": "markdown",
   "metadata": {},
   "source": [
    "### Выделим коллокации по PMI"
   ]
  },
  {
   "cell_type": "code",
   "execution_count": 23,
   "metadata": {
    "collapsed": false
   },
   "outputs": [],
   "source": [
    "# Немного преобразуем датасет, чтобы передать его в BigramCollocationFinder.\n",
    "# Суть в том, что мы объединим все в единый текст. Да, тут могут проявиться такие ситуации, когда будет учитываться, что\n",
    "# словосочетание будет состоять из последнего слова email, и первого слова следующего email. Но т.к. \n",
    "# мы ищем самые повторяющиеся коллокации, то это не важно.\n",
    "import re\n",
    "\n",
    "texts = dataset.ExtractedBodyText\n",
    "united_text = np.array([])\n",
    "for text in texts:\n",
    "    united_text = np.append(united_text, re.split(\"\\\\s+\", text))"
   ]
  },
  {
   "cell_type": "code",
   "execution_count": 24,
   "metadata": {
    "collapsed": false
   },
   "outputs": [
    {
     "data": {
      "text/plain": [
       "[('!-', '.112'),\n",
       " ('!.:tam', 'Trir...\\xe2\\x80\\x9811'),\n",
       " (\"!Dosi',.\", '--;'),\n",
       " ('!act', 'davc'),\n",
       " ('\"13', 'Bankers.\"The'),\n",
       " ('\"9', 'pm\"'),\n",
       " ('\"Afghanistan:', 'Sustaining'),\n",
       " ('\"Ashawntea?\"', '\"Historical'),\n",
       " ('\"Back!', 'Back!\"'),\n",
       " ('\"Basic', 'Laws.\"')]"
      ]
     },
     "execution_count": 24,
     "metadata": {},
     "output_type": "execute_result"
    }
   ],
   "source": [
    "import nltk\n",
    "from nltk.collocations import *\n",
    "import re\n",
    "\n",
    "bigram_measures = nltk.collocations.BigramAssocMeasures()\n",
    "finder = BigramCollocationFinder.from_words(united_text)\n",
    "finder.nbest(bigram_measures.pmi, 10)"
   ]
  },
  {
   "cell_type": "markdown",
   "metadata": {},
   "source": [
    "### Кластеризация"
   ]
  },
  {
   "cell_type": "code",
   "execution_count": 18,
   "metadata": {
    "collapsed": false
   },
   "outputs": [],
   "source": [
    "from sklearn.feature_extraction.text import TfidfVectorizer\n",
    "from sklearn.cluster import KMeans\n",
    "\n",
    "vect = TfidfVectorizer(max_features=1000)\n",
    "corpus = vect.fit_transform(dataset.ExtractedBodyText)\n",
    "clusterizer = KMeans(n_clusters=3) # 3 выяснено опытным путём\n",
    "y = clusterizer.fit_predict(corpus)"
   ]
  },
  {
   "cell_type": "markdown",
   "metadata": {},
   "source": [
    "### Визуализация"
   ]
  },
  {
   "cell_type": "markdown",
   "metadata": {},
   "source": [
    "Визуализируем это добро сначала без подписей"
   ]
  },
  {
   "cell_type": "code",
   "execution_count": 19,
   "metadata": {
    "collapsed": true
   },
   "outputs": [],
   "source": [
    "from sklearn.decomposition import PCA\n",
    "\n",
    "X_pca = PCA(n_components=2).fit_transform(corpus.todense())"
   ]
  },
  {
   "cell_type": "code",
   "execution_count": 20,
   "metadata": {
    "collapsed": false
   },
   "outputs": [
    {
     "data": {
      "image/png": "[encoded data removed]",
      "text/plain": [
       "<matplotlib.figure.Figure at 0x1a7b6550>"
      ]
     },
     "metadata": {},
     "output_type": "display_data"
    }
   ],
   "source": [
    "import matplotlib.pyplot as plt\n",
    "\n",
    "% matplotlib inline\n",
    "\n",
    "plt.figure()\n",
    "plt.scatter(X_pca[:,0], X_pca[:,1], c=y)\n",
    "plt.show()"
   ]
  },
  {
   "cell_type": "markdown",
   "metadata": {},
   "source": [
    "Вполне красивенько. Теперь попробуем визуализировать вместе с частыми словами. Получим порядка 20 самых популярных слов в TfdifVectorizer, выберем письма, в которых это слово встречается и выведем в центре этих писем."
   ]
  },
  {
   "cell_type": "code",
   "execution_count": 30,
   "metadata": {
    "collapsed": false
   },
   "outputs": [
    {
     "data": {
      "text/plain": [
       "array([u'below', u'see', u'your', u'family', u'financial', u'finally',\n",
       "       u'final', u'fight', u'few', u'feel', u'federal', u'february',\n",
       "       u'fear', u'fax', u'favorable', u'far', u'families', u'first',\n",
       "       u'fall', u'failed'], \n",
       "      dtype='<U14')"
      ]
     },
     "execution_count": 30,
     "metadata": {},
     "output_type": "execute_result"
    }
   ],
   "source": [
    "feature_array = np.array(vect.get_feature_names())\n",
    "tfidf_sorting = np.argsort(corpus.toarray()).flatten()[::-1]\n",
    "\n",
    "top_n = feature_array[tfidf_sorting][:20]\n",
    "top_n"
   ]
  },
  {
   "cell_type": "code",
   "execution_count": 57,
   "metadata": {
    "collapsed": true
   },
   "outputs": [],
   "source": [
    "texts = dataset.ExtractedBodyText"
   ]
  },
  {
   "cell_type": "code",
   "execution_count": 115,
   "metadata": {
    "collapsed": false
   },
   "outputs": [],
   "source": [
    "coordinates = {}\n",
    "values = [[], []]\n",
    "for word in top_n:\n",
    "    ids = []\n",
    "    for i in xrange(X_pca.shape[0]):\n",
    "        if word in texts[i]:\n",
    "            ids.append(i)\n",
    "    word_x = 0.\n",
    "    word_y = 0.\n",
    "    for i in ids:\n",
    "        word_x += X_pca[i, 0]\n",
    "        word_y += X_pca[i, 1]\n",
    "    word_x /= len(buf)\n",
    "    word_y /= len(buf)\n",
    "    coordinates[word] = (word_x, word_y)\n",
    "    values[0].append(word_x)\n",
    "    values[1].append(word_y)"
   ]
  },
  {
   "cell_type": "code",
   "execution_count": 116,
   "metadata": {
    "collapsed": false
   },
   "outputs": [
    {
     "data": {
      "text/plain": [
       "{u'below': (-0.0012254752835519583, 0.0021099092701150667),\n",
       " u'failed': (-0.00089487261922901562, 0.0016613795738895285),\n",
       " u'fall': (-0.0014249821391471074, 0.0026810587141790402),\n",
       " u'families': (-0.00068741676268420924, 0.0013094426365391663),\n",
       " u'family': (-0.0011821313767999737, 0.0020417946105809152),\n",
       " u'far': (-0.0023625874856484977, 0.0044445014207812085),\n",
       " u'favorable': (-0.00018482285668083579, 0.00033470699319230026),\n",
       " u'fax': (-0.00057618885092831744, 0.0004596933671317336),\n",
       " u'fear': (-0.0012259087467421923, 0.0023884985803127455),\n",
       " u'february': (0.0, 0.0),\n",
       " u'federal': (-0.00047547029514758766, 0.00092538976258270172),\n",
       " u'feel': (-0.0017159098063976024, 0.0030287674620595758),\n",
       " u'few': (-0.0026444933316379961, 0.004370342759159979),\n",
       " u'fight': (-0.0015327443905474411, 0.0029492103332744418),\n",
       " u'final': (-0.0016766344817698441, 0.0028640902744580159),\n",
       " u'finally': (-0.00069056752089081833, 0.0012844601665343138),\n",
       " u'financial': (-0.00092167082874261552, 0.0017940655060880277),\n",
       " u'first': (-0.0038000662876440609, 0.0066584169752718723),\n",
       " u'see': (-0.0068999121079949327, 0.010420674997071557),\n",
       " u'your': (-0.0053694741528870285, 0.006949962390871308)}"
      ]
     },
     "execution_count": 116,
     "metadata": {},
     "output_type": "execute_result"
    }
   ],
   "source": [
    "coordinates"
   ]
  },
  {
   "cell_type": "markdown",
   "metadata": {},
   "source": [
    "Они все располгаюатся близко к середине, так что это было плохой идеей :("
   ]
  },
  {
   "cell_type": "code",
   "execution_count": 118,
   "metadata": {
    "collapsed": false
   },
   "outputs": [
    {
     "data": {
      "image/png": "[encoded data removed]",
      "text/plain": [
       "<matplotlib.figure.Figure at 0xb0184a8>"
      ]
     },
     "metadata": {},
     "output_type": "display_data"
    }
   ],
   "source": [
    "plt.figure()\n",
    "plt.scatter(values[0], values[1])\n",
    "plt.show()"
   ]
  },
  {
   "cell_type": "code",
   "execution_count": null,
   "metadata": {
    "collapsed": true
   },
   "outputs": [],
   "source": []
  }
 ],
 "metadata": {
  "kernelspec": {
   "display_name": "Python 2",
   "language": "python",
   "name": "python2"
  },
  "language_info": {
   "codemirror_mode": {
    "name": "ipython",
    "version": 2
   },
   "file_extension": ".py",
   "mimetype": "text/x-python",
   "name": "python",
   "nbconvert_exporter": "python",
   "pygments_lexer": "ipython2",
   "version": "2.7.11"
  }
 },
 "nbformat": 4,
 "nbformat_minor": 0
}
